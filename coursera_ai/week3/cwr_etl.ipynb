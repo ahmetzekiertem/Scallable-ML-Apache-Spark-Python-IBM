{
 "cells": [
  {
   "cell_type": "code",
   "execution_count": 18,
   "metadata": {},
   "outputs": [],
   "source": [
    "import numpy as np\n",
    "import pandas as pd\n",
    "import scipy.io as sio\n",
    "import os"
   ]
  },
  {
   "cell_type": "code",
   "execution_count": null,
   "metadata": {},
   "outputs": [],
   "source": [
    "!wget http://csegroups.case.edu/sites/default/files/bearingdatacenter/files/Datafiles/97.mat\n",
    "!wget http://csegroups.case.edu/sites/default/files/bearingdatacenter/files/Datafiles/98.mat\n",
    "!wget http://csegroups.case.edu/sites/default/files/bearingdatacenter/files/Datafiles/99.mat\n",
    "!wget http://csegroups.case.edu/sites/default/files/bearingdatacenter/files/Datafiles/100.mat"
   ]
  },
  {
   "cell_type": "code",
   "execution_count": null,
   "metadata": {},
   "outputs": [],
   "source": [
    "!mkdir  cwr_healthy"
   ]
  },
  {
   "cell_type": "code",
   "execution_count": null,
   "metadata": {},
   "outputs": [],
   "source": [
    "!mv *.mat cwr_healthy/"
   ]
  },
  {
   "cell_type": "code",
   "execution_count": 19,
   "metadata": {},
   "outputs": [],
   "source": [
    "def read_folder(folder):\n",
    "    data = 'dummy'\n",
    "    skip = False\n",
    "    for file in os.listdir(folder):\n",
    "        file_id = file[:-4]\n",
    "        mat_file_dict = sio.loadmat(folder+file)\n",
    "        del data\n",
    "        for key, value in mat_file_dict.items():\n",
    "            if 'DE_time' in key or 'FE_time' in key:\n",
    "                a = np.array(mat_file_dict[key])\n",
    "                try:\n",
    "                    data\n",
    "                except NameError:\n",
    "                    data = a\n",
    "                else:\n",
    "                    if (data.shape[0] != a.shape[0]):\n",
    "                        print('skipping ' + file_id)\n",
    "                        skip = True\n",
    "                        continue\n",
    "                    data = np.hstack((data,a))\n",
    "        if skip:\n",
    "            skip=False\n",
    "            continue\n",
    "        id = np.repeat(file_id,data.shape[0])\n",
    "        id.shape = (id.shape[0],1)\n",
    "        data = np.hstack((id,data))\n",
    "        if data.shape[1] == 2:\n",
    "            zeros = np.repeat(float(0),data.shape[0])\n",
    "            zeros.shape =(data.shape[0],1)\n",
    "            data = np.hstack((data,zeros))\n",
    "        try:\n",
    "            result\n",
    "        except NameError:\n",
    "            result = data\n",
    "        else:\n",
    "            result = np.vstack((result,data))\n",
    "    return result"
   ]
  },
  {
   "cell_type": "code",
   "execution_count": null,
   "metadata": {},
   "outputs": [],
   "source": [
    "result_healthy = read_folder('./cwr_healthy/')"
   ]
  },
  {
   "cell_type": "code",
   "execution_count": null,
   "metadata": {},
   "outputs": [],
   "source": [
    "pdf = pd.DataFrame(result_healthy)"
   ]
  },
  {
   "cell_type": "code",
   "execution_count": null,
   "metadata": {},
   "outputs": [],
   "source": [
    "pdf.to_csv('result_healthy_pandas.csv', header=False, index=True)"
   ]
  },
  {
   "cell_type": "code",
   "execution_count": null,
   "metadata": {},
   "outputs": [],
   "source": [
    "#!for url in `curl -s csegroups.case.edu/bearingdatacenter/pages/12k-drive-end-bearing-fault-data |grep mat |grep http |awk -F'href=\"' '{print $2}' |awk -F'\">' '{print $1}'`; do wget $url; done\n",
    "#!for url in `curl -s csegroups.case.edu/bearingdatacenter/pages/48k-drive-end-bearing-fault-data |grep mat |grep http |awk -F'href=\"' '{print $2}' |awk -F'\">' '{print $1}'`; do wget $url; done\n",
    "#!for url in `curl -s csegroups.case.edu/bearingdatacenter/pages/12k-fan-end-bearing-fault-data |grep mat |grep http |awk -F'href=\"' '{print $2}' |awk -F'\">' '{print $1}'`; do wget $url; done\n",
    "#!mkdir cwr_faulty\n",
    "#!mv *.mat cwr_faulty/"
   ]
  },
  {
   "cell_type": "code",
   "execution_count": 8,
   "metadata": {},
   "outputs": [
    {
     "name": "stdout",
     "output_type": "stream",
     "text": [
      "--2019-02-08 14:51:39--  http://csegroups.case.edu/sites/default/files/bearingdatacenter/files/Datafiles/105.mat\n",
      "Resolving csegroups.case.edu (csegroups.case.edu)... 129.22.25.84\n",
      "Connecting to csegroups.case.edu (csegroups.case.edu)|129.22.25.84|:80... connected.\n",
      "HTTP request sent, awaiting response... 200 OK\n",
      "Length: 2910768 (2.8M)\n",
      "Saving to: ‘105.mat’\n",
      "\n",
      "100%[======================================>] 2,910,768   4.67MB/s   in 0.6s   \n",
      "\n",
      "2019-02-08 14:51:40 (4.67 MB/s) - ‘105.mat’ saved [2910768/2910768]\n",
      "\n",
      "--2019-02-08 14:51:40--  http://csegroups.case.edu/sites/default/files/bearingdatacenter/files/Datafiles/106.mat\n",
      "Resolving csegroups.case.edu (csegroups.case.edu)... 129.22.25.84\n",
      "Connecting to csegroups.case.edu (csegroups.case.edu)|129.22.25.84|:80... connected.\n",
      "HTTP request sent, awaiting response... 200 OK\n",
      "Length: 2928192 (2.8M)\n",
      "Saving to: ‘106.mat’\n",
      "\n",
      "100%[======================================>] 2,928,192   4.45MB/s   in 0.6s   \n",
      "\n",
      "2019-02-08 14:51:41 (4.45 MB/s) - ‘106.mat’ saved [2928192/2928192]\n",
      "\n",
      "--2019-02-08 14:51:41--  http://csegroups.case.edu/sites/default/files/bearingdatacenter/files/Datafiles/107.mat\n",
      "Resolving csegroups.case.edu (csegroups.case.edu)... 129.22.25.84\n",
      "Connecting to csegroups.case.edu (csegroups.case.edu)|129.22.25.84|:80... connected.\n",
      "HTTP request sent, awaiting response... 200 OK\n",
      "Length: 2931672 (2.8M)\n",
      "Saving to: ‘107.mat’\n",
      "\n",
      "100%[======================================>] 2,931,672   3.87MB/s   in 0.7s   \n",
      "\n",
      "2019-02-08 14:51:42 (3.87 MB/s) - ‘107.mat’ saved [2931672/2931672]\n",
      "\n",
      "--2019-02-08 14:51:43--  http://csegroups.case.edu/sites/default/files/bearingdatacenter/files/Datafiles/108.mat\n",
      "Resolving csegroups.case.edu (csegroups.case.edu)... 129.22.25.84\n",
      "Connecting to csegroups.case.edu (csegroups.case.edu)|129.22.25.84|:80... connected.\n",
      "HTTP request sent, awaiting response... 200 OK\n",
      "Length: 2950416 (2.8M)\n",
      "Saving to: ‘108.mat’\n",
      "\n",
      "100%[======================================>] 2,950,416   4.49MB/s   in 0.6s   \n",
      "\n",
      "2019-02-08 14:51:43 (4.49 MB/s) - ‘108.mat’ saved [2950416/2950416]\n",
      "\n"
     ]
    }
   ],
   "source": [
    "!wget http://csegroups.case.edu/sites/default/files/bearingdatacenter/files/Datafiles/105.mat\n",
    "!wget http://csegroups.case.edu/sites/default/files/bearingdatacenter/files/Datafiles/106.mat\n",
    "!wget http://csegroups.case.edu/sites/default/files/bearingdatacenter/files/Datafiles/107.mat\n",
    "!wget http://csegroups.case.edu/sites/default/files/bearingdatacenter/files/Datafiles/108.mat"
   ]
  },
  {
   "cell_type": "code",
   "execution_count": 9,
   "metadata": {},
   "outputs": [],
   "source": [
    "!mkdir cwr_faulty\n",
    "!mv *.mat cwr_faulty/"
   ]
  },
  {
   "cell_type": "code",
   "execution_count": 10,
   "metadata": {},
   "outputs": [
    {
     "name": "stdout",
     "output_type": "stream",
     "text": [
      "105.mat  106.mat  107.mat  108.mat\r\n"
     ]
    }
   ],
   "source": [
    "!ls cwr_faulty/"
   ]
  },
  {
   "cell_type": "code",
   "execution_count": 20,
   "metadata": {},
   "outputs": [],
   "source": [
    "result_faulty = read_folder('./cwr_faulty/')"
   ]
  },
  {
   "cell_type": "code",
   "execution_count": 21,
   "metadata": {},
   "outputs": [],
   "source": [
    "pdf = pd.DataFrame(result_faulty)"
   ]
  },
  {
   "cell_type": "code",
   "execution_count": 22,
   "metadata": {},
   "outputs": [],
   "source": [
    "pdf.to_csv('result_faulty_pandas.csv', header=False, index=True)"
   ]
  }
 ],
 "metadata": {
  "kernelspec": {
   "display_name": "Python 3.5",
   "language": "python",
   "name": "python3"
  },
  "language_info": {
   "codemirror_mode": {
    "name": "ipython",
    "version": 3
   },
   "file_extension": ".py",
   "mimetype": "text/x-python",
   "name": "python",
   "nbconvert_exporter": "python",
   "pygments_lexer": "ipython3",
   "version": "3.5.5"
  }
 },
 "nbformat": 4,
 "nbformat_minor": 1
}
